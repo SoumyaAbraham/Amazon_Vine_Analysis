{
  "cells": [
    {
      "cell_type": "markdown",
      "source": [
        "## Deliverable 2"
      ],
      "metadata": {
        "id": "BXH_EAr_3MsW"
      }
    },
    {
      "cell_type": "code",
      "execution_count": 8,
      "metadata": {
        "colab": {
          "base_uri": "https://localhost:8080/",
          "height": 951
        },
        "id": "LglMj9m5b4jo",
        "outputId": "c9903b1d-9559-43a1-f804-a128cea699d9"
      },
      "outputs": [
        {
          "output_type": "stream",
          "name": "stdout",
          "text": [
            "\n",
            "WARNING: apt does not have a stable CLI interface. Use with caution in scripts.\n",
            "\n",
            "--2022-11-30 11:21:17--  https://www.apache.org/dist/spark/spark-3.3.1/spark-3.3.1-bin-hadoop3.tgz\n",
            "Resolving www.apache.org (www.apache.org)... 151.101.2.132, 2a04:4e42::644\n",
            "Connecting to www.apache.org (www.apache.org)|151.101.2.132|:443... connected.\n",
            "HTTP request sent, awaiting response... 302 Found\n",
            "Location: https://downloads.apache.org/spark/spark-3.3.1/spark-3.3.1-bin-hadoop3.tgz [following]\n",
            "--2022-11-30 11:21:18--  https://downloads.apache.org/spark/spark-3.3.1/spark-3.3.1-bin-hadoop3.tgz\n",
            "Resolving downloads.apache.org (downloads.apache.org)... 135.181.214.104, 88.99.95.219, 2a01:4f8:10a:201a::2, ...\n",
            "Connecting to downloads.apache.org (downloads.apache.org)|135.181.214.104|:443... connected.\n",
            "HTTP request sent, awaiting response... 200 OK\n",
            "Length: 299350810 (285M) [application/x-gzip]\n",
            "Saving to: ‘spark-3.3.1-bin-hadoop3.tgz.1’\n",
            "\n",
            "spark-3.3.1-bin-had 100%[===================>] 285.48M  10.2MB/s    in 29s     \n",
            "\n",
            "2022-11-30 11:21:47 (9.98 MB/s) - ‘spark-3.3.1-bin-hadoop3.tgz.1’ saved [299350810/299350810]\n",
            "\n",
            "Looking in indexes: https://pypi.org/simple, https://us-python.pkg.dev/colab-wheels/public/simple/\n",
            "Requirement already satisfied: findspark in /usr/local/lib/python3.7/dist-packages (2.0.1)\n",
            "--2022-11-30 11:21:54--  https://jdbc.postgresql.org/download/postgresql-42.5.1.jar\n",
            "Resolving jdbc.postgresql.org (jdbc.postgresql.org)... 72.32.157.228, 2001:4800:3e1:1::228\n",
            "Connecting to jdbc.postgresql.org (jdbc.postgresql.org)|72.32.157.228|:443... connected.\n",
            "HTTP request sent, awaiting response... 200 OK\n",
            "Length: 1046770 (1022K) [application/java-archive]\n",
            "Saving to: ‘postgresql-42.5.1.jar.1’\n",
            "\n",
            "postgresql-42.5.1.j 100%[===================>]   1022K  1.22MB/s    in 0.8s    \n",
            "\n",
            "2022-11-30 11:21:56 (1.22 MB/s) - ‘postgresql-42.5.1.jar.1’ saved [1046770/1046770]\n",
            "\n",
            "Looking in indexes: https://pypi.org/simple, https://us-python.pkg.dev/colab-wheels/public/simple/\n",
            "Requirement already satisfied: boto3 in /usr/local/lib/python3.7/dist-packages (1.26.19)\n",
            "Requirement already satisfied: s3transfer<0.7.0,>=0.6.0 in /usr/local/lib/python3.7/dist-packages (from boto3) (0.6.0)\n",
            "Requirement already satisfied: botocore<1.30.0,>=1.29.19 in /usr/local/lib/python3.7/dist-packages (from boto3) (1.29.19)\n",
            "Requirement already satisfied: jmespath<2.0.0,>=0.7.1 in /usr/local/lib/python3.7/dist-packages (from boto3) (1.0.1)\n",
            "Requirement already satisfied: python-dateutil<3.0.0,>=2.1 in /usr/local/lib/python3.7/dist-packages (from botocore<1.30.0,>=1.29.19->boto3) (2.8.2)\n",
            "Requirement already satisfied: urllib3<1.27,>=1.25.4 in /usr/local/lib/python3.7/dist-packages (from botocore<1.30.0,>=1.29.19->boto3) (1.26.13)\n",
            "Requirement already satisfied: six>=1.5 in /usr/local/lib/python3.7/dist-packages (from python-dateutil<3.0.0,>=2.1->botocore<1.30.0,>=1.29.19->boto3) (1.15.0)\n"
          ]
        },
        {
          "output_type": "execute_result",
          "data": {
            "text/plain": [
              "<pyspark.sql.session.SparkSession at 0x7fac84d3c090>"
            ],
            "text/html": [
              "\n",
              "            <div>\n",
              "                <p><b>SparkSession - in-memory</b></p>\n",
              "                \n",
              "        <div>\n",
              "            <p><b>SparkContext</b></p>\n",
              "\n",
              "            <p><a href=\"http://a270144eb793:4040\">Spark UI</a></p>\n",
              "\n",
              "            <dl>\n",
              "              <dt>Version</dt>\n",
              "                <dd><code>v3.3.1</code></dd>\n",
              "              <dt>Master</dt>\n",
              "                <dd><code>local[*]</code></dd>\n",
              "              <dt>AppName</dt>\n",
              "                <dd><code>M16-Vine-Challenge</code></dd>\n",
              "            </dl>\n",
              "        </div>\n",
              "        \n",
              "            </div>\n",
              "        "
            ]
          },
          "metadata": {},
          "execution_count": 8
        }
      ],
      "source": [
        "import os\n",
        "import sys\n",
        "os.environ['PYSPARK_PYTHON'] = sys.executable\n",
        "os.environ['PYSPARK_DRIVER_PYTHON'] = sys.executable\n",
        "\n",
        "# Find the latest versions of\n",
        "#   Spark & Hadoop:  https://spark.apache.org/downloads.html (https://www.apache.org/dist/spark/)\n",
        "#   Postgres driver: https://jdbc.postgresql.org/\n",
        "os.environ['HADOOP_VERSION']   = hadoop_version   = 'hadoop3'\n",
        "os.environ['SPARK_VERSION']    = spark_version    = 'spark-3.3.1'\n",
        "os.environ['POSTGRES_VERSION'] = postgres_version = 'postgresql-42.5.1'\n",
        "\n",
        "# Install Java\n",
        "! apt install openjdk-11-jdk-headless > /dev/null\n",
        "os.environ['JAVA_HOME']  = '/usr/lib/jvm/java-11-openjdk-amd64'\n",
        "\n",
        "# Install Spark\n",
        "! wget https://www.apache.org/dist/spark/$SPARK_VERSION/$SPARK_VERSION-bin-$HADOOP_VERSION.tgz\n",
        "! tar xf $SPARK_VERSION-bin-$HADOOP_VERSION.tgz\n",
        "os.environ['SPARK_HOME'] = f'/content/{spark_version}-bin-{hadoop_version}'\n",
        "! pip install findspark\n",
        "\n",
        "# Install Postgres driver\n",
        "! wget https://jdbc.postgresql.org/download/$POSTGRES_VERSION.jar\n",
        "\n",
        "# Install AWS's Boto3\n",
        "! pip install boto3\n",
        "\n",
        "import boto3\n",
        "import findspark\n",
        "findspark.init()\n",
        "from   getpass     import getpass\n",
        "from   pyspark.sql import SparkSession\n",
        "\n",
        "spark = SparkSession.builder \\\n",
        "  .appName('M16-Vine-Challenge') \\\n",
        "  .config('spark.driver.extraClassPath', f'/content/{postgres_version}.jar') \\\n",
        "  .getOrCreate()\n",
        "spark"
      ]
    },
    {
      "cell_type": "code",
      "execution_count": 9,
      "metadata": {
        "id": "XDyh3eIVXJpX",
        "colab": {
          "base_uri": "https://localhost:8080/"
        },
        "outputId": "d0481ef9-09ce-4225-f5f7-71cbfc754253"
      },
      "outputs": [
        {
          "output_type": "stream",
          "name": "stdout",
          "text": [
            "+-----------+-----------+--------------+----------+--------------+--------------------+----------------+-----------+-------------+-----------+----+-----------------+--------------------+--------------------+-------------------+\n",
            "|marketplace|customer_id|     review_id|product_id|product_parent|       product_title|product_category|star_rating|helpful_votes|total_votes|vine|verified_purchase|     review_headline|         review_body|        review_date|\n",
            "+-----------+-----------+--------------+----------+--------------+--------------------+----------------+-----------+-------------+-----------+----+-----------------+--------------------+--------------------+-------------------+\n",
            "|         US|   27288431| R33UPQQUZQEM8|B005T4ND06|     400024643|Yoga for Movement...|       Video DVD|          5|            3|          3|   N|                Y|This was a gift f...|This was a gift f...|2015-08-31 00:00:00|\n",
            "|         US|   13722556|R3IKTNQQPD9662|B004EPZ070|     685335564|  Something Borrowed|       Video DVD|          5|            0|          0|   N|                Y|          Five Stars| Teats my heart out.|2015-08-31 00:00:00|\n",
            "|         US|   20381037|R3U27V5QMCP27T|B005S9EKCW|     922008804|Les Miserables (2...|       Video DVD|          5|            1|          1|   N|                Y|        Great movie!|        Great movie.|2015-08-31 00:00:00|\n",
            "|         US|   24852644|R2TOH2QKNK4IOC|B00FC1ZCB4|     326560548|Alien Anthology a...|       Video DVD|          5|            0|          1|   N|                Y|             Amazing|My husband was so...|2015-08-31 00:00:00|\n",
            "|         US|   15556113|R2XQG5NJ59UFMY|B002ZG98Z0|     637495038|  Sex and the City 2|       Video DVD|          5|            0|          0|   N|                Y|          Five Stars|   Love this series.|2015-08-31 00:00:00|\n",
            "|         US|    6132474|R1N1KHBRR4ZTX3|B00X8RONBO|     896602391|When Calls The He...|       Video DVD|          5|            0|          0|   N|                Y|          Five Stars|            love it!|2015-08-31 00:00:00|\n",
            "|         US|   48049524|R3OM9S0TCBP38K|B000CEXFZG|     115883890|Teen Titans - The...|       Video DVD|          5|            0|          0|   N|                Y|               Great|Better than the c...|2015-08-31 00:00:00|\n",
            "|         US|    3282516|R1W4S949ZRCTBW|B00ID8H8EW|     977932459|      Generation War|       Video DVD|          5|            0|          0|   N|                Y|          Five Stars|I really emjoyed ...|2015-08-31 00:00:00|\n",
            "|         US|   51771179|R18JL1NNQAZFV2|B000TGJ8IU|     840084782|Troy  (Director's...|       Video DVD|          5|            0|          0|   N|                Y|          Five Stars|Awesome movie, we...|2015-08-31 00:00:00|\n",
            "|         US|   31816501|R1LP6PR06OPYUX|B00DPMPTDS|     262144920|Faith Aka the Gre...|       Video DVD|          4|            0|          0|   N|                Y|a beautiful fanta...|...a beautiful fa...|2015-08-31 00:00:00|\n",
            "|         US|   16164990| RZKBT035JA0UQ|B00X797LUS|     883589001|   Revenge: Season 4|       Video DVD|          5|            1|          2|   N|                Y|  It's a hit with me|I don't usually w...|2015-08-31 00:00:00|\n",
            "|         US|   33386989|R253N5W74SM7N3|B00C6MXB42|     734735137|YOUNG INDIANA JON...|       Video DVD|          4|            1|          1|   N|                Y|great stuff. I th...|great stuff.  I t...|2015-08-31 00:00:00|\n",
            "|         US|   45486371|R2D5IFTFPHD3RN|B000EZ9084|     821764517|     Survival Island|       Video DVD|          4|            1|          1|   N|                Y|          Four Stars|           very good|2015-08-31 00:00:00|\n",
            "|         US|   14006420|R1CECK3H1URK1G|B000CEXFZG|     115883890|Teen Titans - The...|       Video DVD|          5|            0|          0|   N|                Y|          Five Stars|Kids love the DVD...|2015-08-31 00:00:00|\n",
            "|         US|   23411619|R11MHQRE45204T|B00KXEM6XM|     651533797|     Fargo: Season 1|       Video DVD|          5|            0|          0|   N|                Y|A wonderful cover...|Great news Fargo ...|2015-08-31 00:00:00|\n",
            "|         US|    3202332| RSX9F068J0GXJ|B0036K9CM8|     231498541|Disney Parks: The...|       Video DVD|          5|            0|          0|   N|                Y|We love Disney an...|We love Disney an...|2015-08-31 00:00:00|\n",
            "|         US|   32012808|R1TUMFHZBBOWKL|B00G3HOJZ6|     847624020|Young Detective D...|       Video DVD|          5|            0|          0|   N|                Y|Excellent Movie f...|This is a surpris...|2015-08-31 00:00:00|\n",
            "|         US|   36507765| R8IZ1G1TWGK0E|B00V5E7YR2|     478422254|The Divergent Ser...|       Video DVD|          5|            0|          0|   N|                Y|          Five Stars|          Good movie|2015-08-31 00:00:00|\n",
            "|         US|   13696097|R1CBN0585B7BI4|B005BUA1JY|     700104332|Barney Miller: Th...|       Video DVD|          5|            0|          1|   N|                Y|          Five Stars|This show is a cl...|2015-08-31 00:00:00|\n",
            "|         US|    2190805|R2PJOAZ9I3D8O8|B00YCY46VO|     710263340|Inside Out (Blu-r...|       Video DVD|          5|            2|          2|   N|                N|An Instant Master...|Inside Out revolv...|2015-08-31 00:00:00|\n",
            "+-----------+-----------+--------------+----------+--------------+--------------------+----------------+-----------+-------------+-----------+----+-----------------+--------------------+--------------------+-------------------+\n",
            "only showing top 20 rows\n",
            "\n"
          ]
        }
      ],
      "source": [
        "from pyspark import SparkFiles\n",
        "url = \"https://s3.amazonaws.com/amazon-reviews-pds/tsv/amazon_reviews_us_Video_DVD_v1_00.tsv.gz\"\n",
        "spark.sparkContext.addFile(url)\n",
        "video_review_df = spark.read.option(\"encoding\", \"UTF-8\").csv(SparkFiles.get(\"\"), sep=\"\\t\", header=True, inferSchema=True)\n",
        "video_review_df.show()"
      ]
    },
    {
      "cell_type": "code",
      "execution_count": 10,
      "metadata": {
        "id": "KEgByPrnCx8f",
        "colab": {
          "base_uri": "https://localhost:8080/"
        },
        "outputId": "d5b4e2dd-a492-49e7-bee4-540aef028e02"
      },
      "outputs": [
        {
          "output_type": "stream",
          "name": "stdout",
          "text": [
            "+-----------+-----------+--------------+----------+--------------+--------------------+----------------+-----------+-------------+-----------+----+-----------------+--------------------+--------------------+-------------------+\n",
            "|marketplace|customer_id|     review_id|product_id|product_parent|       product_title|product_category|star_rating|helpful_votes|total_votes|vine|verified_purchase|     review_headline|         review_body|        review_date|\n",
            "+-----------+-----------+--------------+----------+--------------+--------------------+----------------+-----------+-------------+-----------+----+-----------------+--------------------+--------------------+-------------------+\n",
            "|         US|   44783596|R31EUR60FV3BU5|B00ZGPZR9I|     514136181|  Wodehouse in Exile|       Video DVD|          4|           32|         39|   N|                N|Unfair Accusation...|Amazed after Wode...|2015-08-31 00:00:00|\n",
            "|         US|   20714119|R12Q1NO1HI9PP4|B00XUV1B4U|     881344665|Mad Max Anthology...|       Video DVD|          1|            4|         86|   N|                N|            One Star|IF it's not a 4K ...|2015-08-31 00:00:00|\n",
            "|         US|   12720421|R3MDX24QDAT0OW|B00ZCHTQGA|     779817400|Northmen - A Viki...|       Video DVD|          4|           35|         37|   N|                N|I wont steer you ...|Do not watch this...|2015-08-31 00:00:00|\n",
            "|         US|    6402628|R2YVFZB4ESDT7D|B00XUV1B4U|     881344665|Mad Max Anthology...|       Video DVD|          5|          139|        141|   N|                Y|All Four Movies R...|Here's what you'r...|2015-08-31 00:00:00|\n",
            "|         US|   13248802| R6TNONSNFM82I|B00KXEM6XM|     651533797|     Fargo: Season 1|       Video DVD|          1|            0|         28|   N|                Y|      Dvd freeze up.|Series is first r...|2015-08-31 00:00:00|\n",
            "|         US|   12160741|R2R8EWH1JUZCSI|B014LIIXZ0|     674775405|War Room (Blu-ray...|       Video DVD|          5|           16|         21|   N|                N|This is a must ha...|An amazing movie ...|2015-08-31 00:00:00|\n",
            "|         US|   48661793| RUNB838XKMB59|B00ZR3W3YQ|     822214008|Universal Classic...|       Video DVD|          1|            8|         23|   N|                N|The Same Films Ag...|How many times is...|2015-08-31 00:00:00|\n",
            "|         US|   37255383|R3I8GORXGEJL3R|B014GDAVLE|     326486182|           No Escape|       Video DVD|          4|           95|        103|   N|                Y|Owen Lives To Not...|People forget tha...|2015-08-31 00:00:00|\n",
            "|         US|   10725794|R2WFUSIPJ3X0FR|B013F4U82M|     623104816|Toy Story that Ti...|       Video DVD|          1|            9|         53|   N|                N|  Disney, just STOP.|Pixar really jump...|2015-08-31 00:00:00|\n",
            "|         US|   44167709| RONWXF0J85CRR|B011MUA5J2|     274516834|Mission: Impossib...|       Video DVD|          5|           42|         50|   N|                N|Original Mission ...|Mission: Impossib...|2015-08-31 00:00:00|\n",
            "|         US|    7826886|R15OUJIUGMTNW7|B001GU04Y0|     876666928|The Powerpuff Gir...|       Video DVD|          1|            1|         33|   N|                N|powerpuff girls s...|The city of Towns...|2015-08-31 00:00:00|\n",
            "|         US|   46318293|R2QQJIJZIUSQBH|B012O29DR2|     690183613|Little House On T...|       Video DVD|          1|           16|         20|   N|                N|No blu-ray   No p...|I will not purcha...|2015-08-31 00:00:00|\n",
            "|         US|   31530626| RGWTSZJT5WJ35|1921643854|     586529705|Evolution's Achil...|       Video DVD|          1|            9|         50|   N|                N|I watched this pa...|I watched this pa...|2015-08-31 00:00:00|\n",
            "|         US|   38379823|R3O7T74HRIXBE5|B00XOAPFH6|     814178366|Sherlock Holmes (...|       Video DVD|          5|           53|         55|   N|                Y|LOST AND FOUND re...|I have assembled ...|2015-08-31 00:00:00|\n",
            "|         US|   10415926| RSU37FK0W4DPE|B0112HPTCI|     846758128|           Boulevard|       Video DVD|          4|           26|         28|   N|                N|Very poetic that ...|&#34;Sometimes it...|2015-08-31 00:00:00|\n",
            "|         US|   28573806|R22H100N6EUD0Y|B00ZGIOL8I|     983780520|Hammer Film Colle...|       Video DVD|          5|           30|         32|   N|                Y|Excellent studio ...|Excellent studio ...|2015-08-30 00:00:00|\n",
            "|         US|   14636800| R4VC9LDQGIE5K|B0117V8BX8|     226530484|The Collected Wor...|       Video DVD|          5|           26|         37|   N|                N|For those wonderi...|For those wonderi...|2015-08-30 00:00:00|\n",
            "|         US|   13876058| RWMH3PU2EECVA|B00YQTDJ40|     953802771|            Seashore|       Video DVD|          5|           35|         38|   N|                Y|So much to savor ...|This film is deep...|2015-08-30 00:00:00|\n",
            "|         US|   52715519|R2XTQWXL65VPOZ|B00SGYZJZS|     477021665|Phoenix (2014) [ ...|       Video DVD|          4|           22|         24|   N|                N|4.5 stars... Anot...|&#34;Phoenix&#34;...|2015-08-30 00:00:00|\n",
            "|         US|   23055587| RGIM9S035SVIA|B01169X9Z6|     490379100|           Self/less|       Video DVD|          4|           38|         44|   N|                N|Reminiscent of th...|While by no means...|2015-08-30 00:00:00|\n",
            "+-----------+-----------+--------------+----------+--------------+--------------------+----------------+-----------+-------------+-----------+----+-----------------+--------------------+--------------------+-------------------+\n",
            "only showing top 20 rows\n",
            "\n"
          ]
        }
      ],
      "source": [
        "total_votes_df = video_review_df.filter(video_review_df[\"total_votes\"] >= 20)\n",
        "total_votes_df.show()"
      ]
    },
    {
      "cell_type": "code",
      "execution_count": 11,
      "metadata": {
        "id": "5YLjGgjBC9L0",
        "colab": {
          "base_uri": "https://localhost:8080/"
        },
        "outputId": "518b08fb-fb49-49f9-8a9e-4a7ad625e852"
      },
      "outputs": [
        {
          "output_type": "stream",
          "name": "stdout",
          "text": [
            "+-----------+-----------+--------------+----------+--------------+--------------------+----------------+-----------+-------------+-----------+----+-----------------+--------------------+--------------------+-------------------+\n",
            "|marketplace|customer_id|     review_id|product_id|product_parent|       product_title|product_category|star_rating|helpful_votes|total_votes|vine|verified_purchase|     review_headline|         review_body|        review_date|\n",
            "+-----------+-----------+--------------+----------+--------------+--------------------+----------------+-----------+-------------+-----------+----+-----------------+--------------------+--------------------+-------------------+\n",
            "|         US|   44783596|R31EUR60FV3BU5|B00ZGPZR9I|     514136181|  Wodehouse in Exile|       Video DVD|          4|           32|         39|   N|                N|Unfair Accusation...|Amazed after Wode...|2015-08-31 00:00:00|\n",
            "|         US|   12720421|R3MDX24QDAT0OW|B00ZCHTQGA|     779817400|Northmen - A Viki...|       Video DVD|          4|           35|         37|   N|                N|I wont steer you ...|Do not watch this...|2015-08-31 00:00:00|\n",
            "|         US|    6402628|R2YVFZB4ESDT7D|B00XUV1B4U|     881344665|Mad Max Anthology...|       Video DVD|          5|          139|        141|   N|                Y|All Four Movies R...|Here's what you'r...|2015-08-31 00:00:00|\n",
            "|         US|   12160741|R2R8EWH1JUZCSI|B014LIIXZ0|     674775405|War Room (Blu-ray...|       Video DVD|          5|           16|         21|   N|                N|This is a must ha...|An amazing movie ...|2015-08-31 00:00:00|\n",
            "|         US|   37255383|R3I8GORXGEJL3R|B014GDAVLE|     326486182|           No Escape|       Video DVD|          4|           95|        103|   N|                Y|Owen Lives To Not...|People forget tha...|2015-08-31 00:00:00|\n",
            "|         US|   44167709| RONWXF0J85CRR|B011MUA5J2|     274516834|Mission: Impossib...|       Video DVD|          5|           42|         50|   N|                N|Original Mission ...|Mission: Impossib...|2015-08-31 00:00:00|\n",
            "|         US|   46318293|R2QQJIJZIUSQBH|B012O29DR2|     690183613|Little House On T...|       Video DVD|          1|           16|         20|   N|                N|No blu-ray   No p...|I will not purcha...|2015-08-31 00:00:00|\n",
            "|         US|   38379823|R3O7T74HRIXBE5|B00XOAPFH6|     814178366|Sherlock Holmes (...|       Video DVD|          5|           53|         55|   N|                Y|LOST AND FOUND re...|I have assembled ...|2015-08-31 00:00:00|\n",
            "|         US|   10415926| RSU37FK0W4DPE|B0112HPTCI|     846758128|           Boulevard|       Video DVD|          4|           26|         28|   N|                N|Very poetic that ...|&#34;Sometimes it...|2015-08-31 00:00:00|\n",
            "|         US|   28573806|R22H100N6EUD0Y|B00ZGIOL8I|     983780520|Hammer Film Colle...|       Video DVD|          5|           30|         32|   N|                Y|Excellent studio ...|Excellent studio ...|2015-08-30 00:00:00|\n",
            "|         US|   14636800| R4VC9LDQGIE5K|B0117V8BX8|     226530484|The Collected Wor...|       Video DVD|          5|           26|         37|   N|                N|For those wonderi...|For those wonderi...|2015-08-30 00:00:00|\n",
            "|         US|   13876058| RWMH3PU2EECVA|B00YQTDJ40|     953802771|            Seashore|       Video DVD|          5|           35|         38|   N|                Y|So much to savor ...|This film is deep...|2015-08-30 00:00:00|\n",
            "|         US|   52715519|R2XTQWXL65VPOZ|B00SGYZJZS|     477021665|Phoenix (2014) [ ...|       Video DVD|          4|           22|         24|   N|                N|4.5 stars... Anot...|&#34;Phoenix&#34;...|2015-08-30 00:00:00|\n",
            "|         US|   23055587| RGIM9S035SVIA|B01169X9Z6|     490379100|           Self/less|       Video DVD|          4|           38|         44|   N|                N|Reminiscent of th...|While by no means...|2015-08-30 00:00:00|\n",
            "|         US|   11650105|R18ZPPQ2CZKG41|B00ZS21LMQ|     507953360|The Man From U.N....|       Video DVD|          5|           16|         20|   N|                N|New Favorite Movi...|This is absolutel...|2015-08-30 00:00:00|\n",
            "|         US|   51803143|R2FK3TE1JD2UXM|B013W7LS44|     745014875|     Best of Enemies|       Video DVD|          5|           40|         44|   N|                N|    The War of Words|Having been put o...|2015-08-30 00:00:00|\n",
            "|         US|     110262|R22X6BZQKZA30V|B0034G4P8A|     678332854|      Thor [Blu-ray]|       Video DVD|          1|           29|         34|   N|                Y|Love the movie bu...|The case of the d...|2015-08-30 00:00:00|\n",
            "|         US|   49989773| RS3V339OCGT2D|B014LIIYPY|     674775405|            War Room|       Video DVD|          5|           84|         97|   N|                N|    A Call to Prayer|Just saw War Room...|2015-08-30 00:00:00|\n",
            "|         US|   16617577| RCZ5IXAQ4J4NQ|B00ZGRMTLA|     833735950|The Cosby Show - ...|       Video DVD|          5|           22|         36|   N|                N|you can't deny th...|I grew up watchin...|2015-08-30 00:00:00|\n",
            "|         US|   28118049| ROS0GMA6IUSCP|B00M3IVDH6|     723604757|             Rusalka|       Video DVD|          5|           34|         36|   N|                N|This is the Rusal...|Non-opera folks d...|2015-08-30 00:00:00|\n",
            "+-----------+-----------+--------------+----------+--------------+--------------------+----------------+-----------+-------------+-----------+----+-----------------+--------------------+--------------------+-------------------+\n",
            "only showing top 20 rows\n",
            "\n"
          ]
        }
      ],
      "source": [
        "helpful_votes_df = total_votes_df.filter(total_votes_df[\"helpful_votes\"]/total_votes_df[\"total_votes\"] >= 0.5)\n",
        "helpful_votes_df.show()"
      ]
    },
    {
      "cell_type": "code",
      "execution_count": 5,
      "metadata": {
        "id": "5llrW5G-DEpE",
        "colab": {
          "base_uri": "https://localhost:8080/"
        },
        "outputId": "117df598-159b-48fb-9bfc-3945dd20cbd8"
      },
      "outputs": [
        {
          "output_type": "stream",
          "name": "stdout",
          "text": [
            "+-----------+-----------+--------------+----------+--------------+--------------------+----------------+-----------+-------------+-----------+----+-----------------+--------------------+--------------------+-------------------+\n",
            "|marketplace|customer_id|     review_id|product_id|product_parent|       product_title|product_category|star_rating|helpful_votes|total_votes|vine|verified_purchase|     review_headline|         review_body|        review_date|\n",
            "+-----------+-----------+--------------+----------+--------------+--------------------+----------------+-----------+-------------+-----------+----+-----------------+--------------------+--------------------+-------------------+\n",
            "|         US|   27249597|R3PBQ665MBL8CP|B00E1LT41K|     592331046|The White Queen: ...|       Video DVD|          3|           66|         72|   Y|                N|An enjoyable watc...|I enjoyed this TV...|2014-03-27 00:00:00|\n",
            "|         US|   37876368|R3EMD30K7MNOZ0|B00A27OMKU|     678954891|Shiva Rea: Yoga i...|       Video DVD|          2|           20|         25|   Y|                N|I ended up doing ...|I consider myself...|2014-03-05 00:00:00|\n",
            "|         US|   49251765|R2GF3ZLO2B0Y71|B00FEHCR1E|     769938939|Element: Barre Co...|       Video DVD|          5|          236|        243|   Y|                N|A fun workout I l...|I won't review a ...|2014-02-18 00:00:00|\n",
            "|         US|   18039745|R1F8T2Z7U3N6HL|B00E1LR2B4|     419560728|20 Feet from Stardom|       Video DVD|          3|           11|         20|   Y|                N|Very Interesting,...|This is a hard re...|2014-02-02 00:00:00|\n",
            "|         US|   49332535| R5QTOT1GVR8RG|B00E8A0OZ4|     474546272|Element: Targeted...|       Video DVD|          4|           16|         20|   Y|                N|You'll Feel the Burn|This Pilates prog...|2013-12-12 00:00:00|\n",
            "|         US|   51664778|R1KAQEESF0NUGV|B009AJB0YM|     901937989|            10 Years|       Video DVD|          4|           27|         29|   Y|                N|Very realistic re...|Have you been to ...|2013-01-04 00:00:00|\n",
            "|         US|   29471115|R1621B9AMVWI25|B005GYXNT0|     599791357|AGELESS WITH KATH...|       Video DVD|          2|           27|         29|   Y|                N|       For Beginners|I think this work...|2012-06-19 00:00:00|\n",
            "|         US|   49253523|R3FVGQVNBAZL8E|B0059XTUR2|      15783541|          Coriolanus|       Video DVD|          3|           37|         44|   Y|                N|  Modern Shakespeare|Ralph Fiennes dir...|2012-05-29 00:00:00|\n",
            "|         US|   11936223|R26ATTA765WHVX|B004UXUUDA|     776655951|         Sarah's Key|       Video DVD|          5|           21|         23|   Y|                N|Dark Moment in Fr...|.<br /><br />A se...|2011-12-14 00:00:00|\n",
            "|         US|   27826858| RMZYPFKES1ZK7|B004UXUWEC|      52053011|   Our Idiot Brother|       Video DVD|          4|           29|         33|   Y|                N|Great stuff... ev...|Paul Rudd's very ...|2011-12-07 00:00:00|\n",
            "|         US|   44800986|R14DF0WKENBB1W|B004UVYQVY|     925763491|Happythankyoumore...|       Video DVD|          4|           18|         21|   Y|                N|Lonely Young New ...|Sam Wexler is a l...|2011-07-19 00:00:00|\n",
            "|         US|   33354780| RP8XXEUSRVK9W|B0040319AS|     301286610|          RoboGeisha|       Video DVD|          3|           18|         22|   Y|                N|It was okay...but...|To prepare for my...|2011-06-26 00:00:00|\n",
            "|         US|   43449150|R385PHNA6E3GNZ|B0049P1VHS|       6696857|The Walking Dead:...|       Video DVD|          5|           32|         43|   Y|                Y|Too scary to watc...|I would not descr...|2011-05-19 00:00:00|\n",
            "|         US|   52858497|R3EF1FW33JGPV0|B004EC5ITI|     276915999|        The Resident|       Video DVD|          1|           24|         30|   Y|                N|Let me do a favor...|Normally I don't ...|2011-05-15 00:00:00|\n",
            "|         US|   51728481|R1QFLL874C1LYW|B0034G4OVS|     926630292|              Frozen|       Video DVD|          1|           15|         27|   Y|                N|Thrilling start, ...|This movie is a c...|2010-12-21 00:00:00|\n",
            "|         US|   37760327|R3K1A9MD4PVRH4|B0034G4OVS|     926630292|              Frozen|       Video DVD|          2|           26|         37|   Y|                N|Zip up the darn c...|***mild spoilers*...|2010-10-16 00:00:00|\n",
            "|         US|   50161691| RL6DMOWQJ56DX|B003PIUBZS|     800032943|Spartacus: Blood ...|       Video DVD|          3|           19|         27|   Y|                N|The muscles of gl...|This is a histori...|2010-10-12 00:00:00|\n",
            "|         US|   32960447|R2WDJTCP0CO4OF|B002ECJZ76|     622032759|     Christmas Story|       Video DVD|          4|           26|         28|   Y|                N|Tired of the comm...|Most people will ...|2009-12-16 00:00:00|\n",
            "|         US|   51390754| R9XFFVNYHTDOC|B001V9LPWQ|     236964722|Snow White and th...|       Video DVD|          3|          355|        404|   Y|                N|Do the enhancemen...|Side-by-side, I w...|2009-10-21 00:00:00|\n",
            "|         US|   17493059|R1ZMSEURPMYSEB|B001UV4XGU|     231834560|   Sunshine Cleaning|       Video DVD|          4|           18|         20|   Y|                N|bringing sunshine...|A very enjoyable ...|2009-09-08 00:00:00|\n",
            "+-----------+-----------+--------------+----------+--------------+--------------------+----------------+-----------+-------------+-----------+----+-----------------+--------------------+--------------------+-------------------+\n",
            "only showing top 20 rows\n",
            "\n"
          ]
        }
      ],
      "source": [
        "vine_df=helpful_votes_df.filter(helpful_votes_df[\"vine\"]==\"Y\")\n",
        "vine_df.show()"
      ]
    },
    {
      "cell_type": "code",
      "execution_count": 12,
      "metadata": {
        "colab": {
          "base_uri": "https://localhost:8080/"
        },
        "id": "Ld9IFmtiGM2z",
        "outputId": "c8af4be6-4a11-4aee-94a1-498758592471"
      },
      "outputs": [
        {
          "output_type": "stream",
          "name": "stdout",
          "text": [
            "+-----------+-----------+--------------+----------+--------------+--------------------+----------------+-----------+-------------+-----------+----+-----------------+--------------------+--------------------+-------------------+\n",
            "|marketplace|customer_id|     review_id|product_id|product_parent|       product_title|product_category|star_rating|helpful_votes|total_votes|vine|verified_purchase|     review_headline|         review_body|        review_date|\n",
            "+-----------+-----------+--------------+----------+--------------+--------------------+----------------+-----------+-------------+-----------+----+-----------------+--------------------+--------------------+-------------------+\n",
            "|         US|   44783596|R31EUR60FV3BU5|B00ZGPZR9I|     514136181|  Wodehouse in Exile|       Video DVD|          4|           32|         39|   N|                N|Unfair Accusation...|Amazed after Wode...|2015-08-31 00:00:00|\n",
            "|         US|   12720421|R3MDX24QDAT0OW|B00ZCHTQGA|     779817400|Northmen - A Viki...|       Video DVD|          4|           35|         37|   N|                N|I wont steer you ...|Do not watch this...|2015-08-31 00:00:00|\n",
            "|         US|    6402628|R2YVFZB4ESDT7D|B00XUV1B4U|     881344665|Mad Max Anthology...|       Video DVD|          5|          139|        141|   N|                Y|All Four Movies R...|Here's what you'r...|2015-08-31 00:00:00|\n",
            "|         US|   12160741|R2R8EWH1JUZCSI|B014LIIXZ0|     674775405|War Room (Blu-ray...|       Video DVD|          5|           16|         21|   N|                N|This is a must ha...|An amazing movie ...|2015-08-31 00:00:00|\n",
            "|         US|   37255383|R3I8GORXGEJL3R|B014GDAVLE|     326486182|           No Escape|       Video DVD|          4|           95|        103|   N|                Y|Owen Lives To Not...|People forget tha...|2015-08-31 00:00:00|\n",
            "|         US|   44167709| RONWXF0J85CRR|B011MUA5J2|     274516834|Mission: Impossib...|       Video DVD|          5|           42|         50|   N|                N|Original Mission ...|Mission: Impossib...|2015-08-31 00:00:00|\n",
            "|         US|   46318293|R2QQJIJZIUSQBH|B012O29DR2|     690183613|Little House On T...|       Video DVD|          1|           16|         20|   N|                N|No blu-ray   No p...|I will not purcha...|2015-08-31 00:00:00|\n",
            "|         US|   38379823|R3O7T74HRIXBE5|B00XOAPFH6|     814178366|Sherlock Holmes (...|       Video DVD|          5|           53|         55|   N|                Y|LOST AND FOUND re...|I have assembled ...|2015-08-31 00:00:00|\n",
            "|         US|   10415926| RSU37FK0W4DPE|B0112HPTCI|     846758128|           Boulevard|       Video DVD|          4|           26|         28|   N|                N|Very poetic that ...|&#34;Sometimes it...|2015-08-31 00:00:00|\n",
            "|         US|   28573806|R22H100N6EUD0Y|B00ZGIOL8I|     983780520|Hammer Film Colle...|       Video DVD|          5|           30|         32|   N|                Y|Excellent studio ...|Excellent studio ...|2015-08-30 00:00:00|\n",
            "|         US|   14636800| R4VC9LDQGIE5K|B0117V8BX8|     226530484|The Collected Wor...|       Video DVD|          5|           26|         37|   N|                N|For those wonderi...|For those wonderi...|2015-08-30 00:00:00|\n",
            "|         US|   13876058| RWMH3PU2EECVA|B00YQTDJ40|     953802771|            Seashore|       Video DVD|          5|           35|         38|   N|                Y|So much to savor ...|This film is deep...|2015-08-30 00:00:00|\n",
            "|         US|   52715519|R2XTQWXL65VPOZ|B00SGYZJZS|     477021665|Phoenix (2014) [ ...|       Video DVD|          4|           22|         24|   N|                N|4.5 stars... Anot...|&#34;Phoenix&#34;...|2015-08-30 00:00:00|\n",
            "|         US|   23055587| RGIM9S035SVIA|B01169X9Z6|     490379100|           Self/less|       Video DVD|          4|           38|         44|   N|                N|Reminiscent of th...|While by no means...|2015-08-30 00:00:00|\n",
            "|         US|   11650105|R18ZPPQ2CZKG41|B00ZS21LMQ|     507953360|The Man From U.N....|       Video DVD|          5|           16|         20|   N|                N|New Favorite Movi...|This is absolutel...|2015-08-30 00:00:00|\n",
            "|         US|   51803143|R2FK3TE1JD2UXM|B013W7LS44|     745014875|     Best of Enemies|       Video DVD|          5|           40|         44|   N|                N|    The War of Words|Having been put o...|2015-08-30 00:00:00|\n",
            "|         US|     110262|R22X6BZQKZA30V|B0034G4P8A|     678332854|      Thor [Blu-ray]|       Video DVD|          1|           29|         34|   N|                Y|Love the movie bu...|The case of the d...|2015-08-30 00:00:00|\n",
            "|         US|   49989773| RS3V339OCGT2D|B014LIIYPY|     674775405|            War Room|       Video DVD|          5|           84|         97|   N|                N|    A Call to Prayer|Just saw War Room...|2015-08-30 00:00:00|\n",
            "|         US|   16617577| RCZ5IXAQ4J4NQ|B00ZGRMTLA|     833735950|The Cosby Show - ...|       Video DVD|          5|           22|         36|   N|                N|you can't deny th...|I grew up watchin...|2015-08-30 00:00:00|\n",
            "|         US|   28118049| ROS0GMA6IUSCP|B00M3IVDH6|     723604757|             Rusalka|       Video DVD|          5|           34|         36|   N|                N|This is the Rusal...|Non-opera folks d...|2015-08-30 00:00:00|\n",
            "+-----------+-----------+--------------+----------+--------------+--------------------+----------------+-----------+-------------+-----------+----+-----------------+--------------------+--------------------+-------------------+\n",
            "only showing top 20 rows\n",
            "\n"
          ]
        }
      ],
      "source": [
        "not_vine_df=helpful_votes_df.filter(helpful_votes_df[\"vine\"]==\"N\")\n",
        "not_vine_df.show()"
      ]
    },
    {
      "cell_type": "code",
      "execution_count": 20,
      "metadata": {
        "id": "rBNzPCdwNZMJ"
      },
      "outputs": [],
      "source": [
        "# Total number of paid reviews (enrolled in Vine program)\n",
        "paid_count= vine_df.count()"
      ]
    },
    {
      "cell_type": "code",
      "execution_count": 19,
      "metadata": {
        "id": "fJ64AMVsMvKK"
      },
      "outputs": [],
      "source": [
        "# Total number of unpaid reviews (not enrolled in Vine program)\n",
        "unpaid_count=not_vine_df.count()"
      ]
    },
    {
      "cell_type": "code",
      "source": [
        "# Number of 5 Star Paid Reviews\n",
        "five_star_paid_count = vine_df.filter(vine_df[\"star_rating\"]==\"5\").count()"
      ],
      "metadata": {
        "id": "CIWdQ5gAor_d"
      },
      "execution_count": 32,
      "outputs": []
    },
    {
      "cell_type": "code",
      "source": [
        "# Number of 5 Star Unpaid Reviews\n",
        "five_star_unpaid_count = not_vine_df.filter(not_vine_df[\"star_rating\"]==\"5\").count()"
      ],
      "metadata": {
        "id": "nscbdXHqpbqy"
      },
      "execution_count": 33,
      "outputs": []
    },
    {
      "cell_type": "code",
      "source": [
        "# Total number of Paid Reviews\n",
        "vine_count=vine_df.count()"
      ],
      "metadata": {
        "id": "OCIGY9C6DGSV"
      },
      "execution_count": 66,
      "outputs": []
    },
    {
      "cell_type": "code",
      "source": [
        "# Total number of Unpaid Reviews\n",
        "not_vine_count=not_vine_df.count()"
      ],
      "metadata": {
        "id": "xO3FlHwADGEp"
      },
      "execution_count": 67,
      "outputs": []
    },
    {
      "cell_type": "code",
      "source": [
        "# Percentage of Paid Reviews that are 5 Stars\n",
        "five_star_paid_perc = (five_star_paid_count)/(paid_count)*100\n",
        "five_star_paid_perc"
      ],
      "metadata": {
        "colab": {
          "base_uri": "https://localhost:8080/"
        },
        "id": "3nlpkNTpqrQh",
        "outputId": "119bac36-99aa-4a6e-d8a9-9ad0115ac3e0"
      },
      "execution_count": 45,
      "outputs": [
        {
          "output_type": "execute_result",
          "data": {
            "text/plain": [
              "18.367346938775512"
            ]
          },
          "metadata": {},
          "execution_count": 45
        }
      ]
    },
    {
      "cell_type": "code",
      "source": [
        "# Percentage of Unpaid Reviews that are 5 Stars\n",
        "five_star_unpaid_perc = (five_star_unpaid_count)/(unpaid_count)*10\n",
        "five_star_unpaid_perc"
      ],
      "metadata": {
        "colab": {
          "base_uri": "https://localhost:8080/"
        },
        "id": "-oAGFkPmqrNG",
        "outputId": "3f47da52-cb99-42f2-d950-6fbefe266f63"
      },
      "execution_count": 35,
      "outputs": [
        {
          "output_type": "execute_result",
          "data": {
            "text/plain": [
              "5.155944517833554"
            ]
          },
          "metadata": {},
          "execution_count": 35
        }
      ]
    },
    {
      "cell_type": "code",
      "source": [
        "print(f\"Paid and Helpful Reviews: {paid_count}\")"
      ],
      "metadata": {
        "colab": {
          "base_uri": "https://localhost:8080/"
        },
        "id": "5TaVdbLCZJw6",
        "outputId": "2427939d-b86c-4491-b363-928b7b5b99d4"
      },
      "execution_count": 36,
      "outputs": [
        {
          "output_type": "stream",
          "name": "stdout",
          "text": [
            "Paid and Helpful Reviews: 49\n"
          ]
        }
      ]
    },
    {
      "cell_type": "code",
      "source": [
        "print(f\"Unpaid and Helpful Reviews: {unpaid_count}\")"
      ],
      "metadata": {
        "colab": {
          "base_uri": "https://localhost:8080/"
        },
        "id": "1vN03m7YodH6",
        "outputId": "45c3fa81-2c92-41c1-8d3f-dea9046ecfd8"
      },
      "execution_count": 22,
      "outputs": [
        {
          "output_type": "stream",
          "name": "stdout",
          "text": [
            "Unpaid and Helpful Reviews: 151400\n"
          ]
        }
      ]
    },
    {
      "cell_type": "code",
      "source": [
        "print(\"Paid 5 Star Reviews: {}\".format(five_star_paid_count))"
      ],
      "metadata": {
        "colab": {
          "base_uri": "https://localhost:8080/"
        },
        "id": "C3GItzcuoqKF",
        "outputId": "91f09bd2-6aed-4dab-826e-a473f03b7f50"
      },
      "execution_count": 37,
      "outputs": [
        {
          "output_type": "stream",
          "name": "stdout",
          "text": [
            "Paid 5 Star Reviews: 9\n"
          ]
        }
      ]
    },
    {
      "cell_type": "code",
      "source": [
        "print(f\"Unpaid 5 Star Reviews: {five_star_unpaid_count}\")"
      ],
      "metadata": {
        "colab": {
          "base_uri": "https://localhost:8080/"
        },
        "id": "uQCHXu6hp7XQ",
        "outputId": "398380a5-30c5-499d-8976-596b23a22e1b"
      },
      "execution_count": 38,
      "outputs": [
        {
          "output_type": "stream",
          "name": "stdout",
          "text": [
            "Unpaid 5 Star Reviews: 78061\n"
          ]
        }
      ]
    },
    {
      "cell_type": "code",
      "source": [
        "print(f\"Percentage of Paid Reviews that have 5 Stars: {five_star_paid_perc}%\")"
      ],
      "metadata": {
        "colab": {
          "base_uri": "https://localhost:8080/"
        },
        "id": "XuUdr3CCvA7Y",
        "outputId": "749b204e-7b03-4b96-f173-d5aec131894a"
      },
      "execution_count": 53,
      "outputs": [
        {
          "output_type": "stream",
          "name": "stdout",
          "text": [
            "Percentage of Paid Reviews that have 5 Stars: 18.367346938775512%\n"
          ]
        }
      ]
    },
    {
      "cell_type": "code",
      "source": [
        "print(f\"Percentage of Unpaid Reviews that have 5 Stars: {five_star_unpaid_perc}%\")"
      ],
      "metadata": {
        "colab": {
          "base_uri": "https://localhost:8080/"
        },
        "id": "dKaSC7LqvLp8",
        "outputId": "1e7abbe3-87df-4cb8-84ab-4f66eacf0e48"
      },
      "execution_count": 54,
      "outputs": [
        {
          "output_type": "stream",
          "name": "stdout",
          "text": [
            "Percentage of Unpaid Reviews that have 5 Stars: 5.155944517833554%\n"
          ]
        }
      ]
    },
    {
      "cell_type": "markdown",
      "source": [
        "### Additional Analysis: \n",
        "\n",
        "Let us see jsut how many of the total reviews on Video DVDs is Paid and Unpaid"
      ],
      "metadata": {
        "id": "I-f_NQT93B3l"
      }
    },
    {
      "cell_type": "code",
      "source": [
        "# Total number of reviews on Video DVDs\n",
        "total_reviews = video_review_df.count()\n",
        "total_reviews"
      ],
      "metadata": {
        "colab": {
          "base_uri": "https://localhost:8080/"
        },
        "id": "xFUYi3MQwbBT",
        "outputId": "d11cedd7-dd63-4c69-d96a-535eda02e10c"
      },
      "execution_count": 78,
      "outputs": [
        {
          "output_type": "execute_result",
          "data": {
            "text/plain": [
              "5069140"
            ]
          },
          "metadata": {},
          "execution_count": 78
        }
      ]
    },
    {
      "cell_type": "code",
      "source": [
        "# Total number of Paid (Vine) Reviews-- helpful or not \n",
        "total_vine = video_review_df.filter(video_review_df[\"vine\"] =='Y').count()\n",
        "total_vine"
      ],
      "metadata": {
        "colab": {
          "base_uri": "https://localhost:8080/"
        },
        "id": "cHlBTW4D1Kj-",
        "outputId": "b846afb7-4724-4c6c-d944-e61ce202ff6e"
      },
      "execution_count": 79,
      "outputs": [
        {
          "output_type": "execute_result",
          "data": {
            "text/plain": [
              "4340"
            ]
          },
          "metadata": {},
          "execution_count": 79
        }
      ]
    },
    {
      "cell_type": "code",
      "source": [
        "# Total number of Unpaid (Not-Vine) Reviews-- helpful or not \n",
        "total_not_vine = video_review_df.filter(video_review_df[\"vine\"] =='N').count()\n",
        "total_not_vine"
      ],
      "metadata": {
        "colab": {
          "base_uri": "https://localhost:8080/"
        },
        "id": "AixD19d71yNt",
        "outputId": "6e877689-a4f1-4bd8-f69c-e5b25e83a103"
      },
      "execution_count": 77,
      "outputs": [
        {
          "output_type": "execute_result",
          "data": {
            "text/plain": [
              "5064796"
            ]
          },
          "metadata": {},
          "execution_count": 77
        }
      ]
    },
    {
      "cell_type": "code",
      "source": [
        "print(f\"Total Number of Video DVD Reviews: {total_reviews}\")"
      ],
      "metadata": {
        "colab": {
          "base_uri": "https://localhost:8080/"
        },
        "id": "1Dnyj3vPwysz",
        "outputId": "a57e9817-937a-4af5-9f94-85d01cdb7e63"
      },
      "execution_count": 43,
      "outputs": [
        {
          "output_type": "stream",
          "name": "stdout",
          "text": [
            "Total Number of Video DVD Reviews: 5069140\n"
          ]
        }
      ]
    },
    {
      "cell_type": "code",
      "source": [
        "# Percentage of Paid Vine Reviews (in all)\n",
        "vine_reviews_percent= total_vine/total_reviews *100"
      ],
      "metadata": {
        "id": "MBDv05eXJJKW"
      },
      "execution_count": 80,
      "outputs": []
    },
    {
      "cell_type": "code",
      "source": [
        "# Percentage of Unpaid Vine Reviews (in all)\n",
        "not_vine_reviews_percent= total_not_vine/total_reviews*100"
      ],
      "metadata": {
        "id": "yBHLZ629JJCZ"
      },
      "execution_count": 81,
      "outputs": []
    },
    {
      "cell_type": "code",
      "source": [
        "print(f\"Percentage of  Paid Video DVD Reviews: {vine_reviews_percent:.2f}%\")"
      ],
      "metadata": {
        "colab": {
          "base_uri": "https://localhost:8080/"
        },
        "id": "d84r-vQ2BT_d",
        "outputId": "4a1e1b69-ae58-4c3d-81d6-b77ef557a268"
      },
      "execution_count": 82,
      "outputs": [
        {
          "output_type": "stream",
          "name": "stdout",
          "text": [
            "Percentage of  Paid Video DVD Reviews: 0.09%\n"
          ]
        }
      ]
    },
    {
      "cell_type": "code",
      "source": [
        "print(f\"Percentage of Unpaid Video DVD Reviews: {not_vine_reviews_percent:.2f}%\")"
      ],
      "metadata": {
        "colab": {
          "base_uri": "https://localhost:8080/"
        },
        "id": "52qMTVBgBhEh",
        "outputId": "edf03b67-bb4d-41f6-cafc-f84a926e2394"
      },
      "execution_count": 83,
      "outputs": [
        {
          "output_type": "stream",
          "name": "stdout",
          "text": [
            "Percentage of Unpaid Video DVD Reviews: 99.91%\n"
          ]
        }
      ]
    }
  ],
  "metadata": {
    "colab": {
      "provenance": []
    },
    "kernelspec": {
      "display_name": "Python 3",
      "name": "python3"
    },
    "language_info": {
      "name": "python"
    }
  },
  "nbformat": 4,
  "nbformat_minor": 0
}